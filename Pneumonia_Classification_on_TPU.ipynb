{
  "nbformat": 4,
  "nbformat_minor": 0,
  "metadata": {
    "colab": {
      "private_outputs": true,
      "provenance": [],
      "gpuType": "T4",
      "authorship_tag": "ABX9TyM+kxdQTRKC3UcIKEDDBHdz",
      "include_colab_link": true
    },
    "kernelspec": {
      "name": "python3",
      "display_name": "Python 3"
    },
    "language_info": {
      "name": "python"
    },
    "accelerator": "GPU"
  },
  "cells": [
    {
      "cell_type": "markdown",
      "metadata": {
        "id": "view-in-github",
        "colab_type": "text"
      },
      "source": [
        "<a href=\"https://colab.research.google.com/github/mahmoudmagdyhassan/NLP-and-CV/blob/main/Pneumonia_Classification_on_TPU.ipynb\" target=\"_parent\"><img src=\"https://colab.research.google.com/assets/colab-badge.svg\" alt=\"Open In Colab\"/></a>"
      ]
    },
    {
      "cell_type": "code",
      "source": [
        "!pip install -q kaggle\n",
        "!mkdir ~/.kaggle\n",
        "!cp kaggle.json ~/.kaggle/\n",
        "! chmod 600 ~/.kaggle/kaggle.json\n",
        "!kaggle datasets download -d paultimothymooney/chest-xray-pneumonia"
      ],
      "metadata": {
        "id": "gAwlsks4mTWH"
      },
      "execution_count": null,
      "outputs": []
    },
    {
      "cell_type": "code",
      "source": [
        "!unzip /content/chest-xray-pneumonia.zip"
      ],
      "metadata": {
        "id": "5ijRuEGCm-3D"
      },
      "execution_count": null,
      "outputs": []
    },
    {
      "cell_type": "code",
      "source": [
        "import tensorflow as tf\n",
        "from tensorflow.keras.preprocessing.image import ImageDataGenerator\n",
        "\n",
        "# Define the paths\n",
        "train_path = '/content/chest_xray/train'\n",
        "val_path = '/content/chest_xray/val'\n",
        "test_path = '/content/chest_xray/test'\n",
        "\n",
        "# Set image size and batch size\n",
        "image_size = (180, 180)\n",
        "batch_size = 32\n",
        "\n",
        "# Create ImageDataGenerator instances\n",
        "train_data_gen = ImageDataGenerator(rescale=1./255)\n",
        "val_data_gen = ImageDataGenerator(rescale=1./255)\n",
        "test_data_gen = ImageDataGenerator(rescale=1./255)\n",
        "\n",
        "# Flow training images in batches using train_data_gen\n",
        "train_generator = train_data_gen.flow_from_directory(\n",
        "    train_path,\n",
        "    target_size=image_size,\n",
        "    batch_size=batch_size,\n",
        "    class_mode='binary'  # Change to 'categorical' if you have multiple classes\n",
        ")\n",
        "\n",
        "# Flow validation images in batches using val_data_gen\n",
        "val_generator = val_data_gen.flow_from_directory(\n",
        "    val_path,\n",
        "    target_size=image_size,\n",
        "    batch_size=batch_size,\n",
        "    class_mode='binary'\n",
        ")\n",
        "\n",
        "# Flow test images in batches using test_data_gen\n",
        "test_generator = test_data_gen.flow_from_directory(\n",
        "    test_path,\n",
        "    target_size=image_size,\n",
        "    batch_size=batch_size,\n",
        "    class_mode='binary'\n",
        ")\n",
        "\n",
        "# Verify the class indices assigned by the generator\n",
        "print(\"Class indices:\", train_generator.class_indices)\n"
      ],
      "metadata": {
        "id": "NHCo60SentNv"
      },
      "execution_count": null,
      "outputs": []
    },
    {
      "cell_type": "code",
      "source": [
        "# Verify the class indices assigned by the generator\n",
        "class_indices = train_generator.class_indices\n",
        "print(\"Class indices:\", class_indices)\n",
        "\n",
        "# Get the number of samples for each class in the training set\n",
        "num_normal_samples = sum(train_generator.classes == class_indices['NORMAL'])\n",
        "num_pneumonia_samples = sum(train_generator.classes == class_indices['PNEUMONIA'])\n",
        "\n",
        "print(\"Number of NORMAL samples:\", num_normal_samples)\n",
        "print(\"Number of PNEUMONIA samples:\", num_pneumonia_samples)\n"
      ],
      "metadata": {
        "id": "mKsP6qDLqe1o"
      },
      "execution_count": null,
      "outputs": []
    },
    {
      "cell_type": "code",
      "source": [
        "print(\"Image shape in training generator:\", train_generator.image_shape)\n",
        "print(\"Image shape in validation generator:\", val_generator.image_shape)\n",
        "print(\"Image shape in test generator:\", test_generator.image_shape)\n"
      ],
      "metadata": {
        "id": "uzY9f7W2plg6"
      },
      "execution_count": null,
      "outputs": []
    },
    {
      "cell_type": "code",
      "source": [
        "import matplotlib.pyplot as plt\n",
        "\n",
        "# Get a batch of images and labels from the training generator\n",
        "images, labels = train_generator.next()\n",
        "\n",
        "# Display the images along with their labels\n",
        "plt.figure(figsize=(12, 8))\n",
        "for i in range(min(36, batch_size)):\n",
        "    plt.subplot(6, 6, i + 1)\n",
        "    plt.imshow(images[i])\n",
        "    plt.title(f\"Class: {labels[i]}\")\n",
        "    plt.axis(\"off\")\n",
        "\n",
        "plt.show()\n"
      ],
      "metadata": {
        "id": "Qb7H0CElpR81"
      },
      "execution_count": null,
      "outputs": []
    },
    {
      "cell_type": "markdown",
      "source": [
        "#Build the CNN\n"
      ],
      "metadata": {
        "id": "2cA0WCEErZhF"
      }
    },
    {
      "cell_type": "code",
      "source": [
        "from tensorflow import keras\n",
        "from tensorflow.keras import layers\n",
        "\n",
        "\n",
        "def conv_block(filters, inputs):\n",
        "    x = layers.SeparableConv2D(filters, 3, activation=\"relu\", padding=\"same\")(inputs)\n",
        "    x = layers.SeparableConv2D(filters, 3, activation=\"relu\", padding=\"same\")(x)\n",
        "    x = layers.BatchNormalization()(x)\n",
        "    outputs = layers.MaxPool2D()(x)\n",
        "\n",
        "    return outputs\n",
        "\n",
        "\n",
        "def dense_block(units, dropout_rate, inputs):\n",
        "    x = layers.Dense(units, activation=\"relu\")(inputs)\n",
        "    x = layers.BatchNormalization()(x)\n",
        "    outputs = layers.Dropout(dropout_rate)(x)\n",
        "\n",
        "    return outputs"
      ],
      "metadata": {
        "id": "6Xvr_kPJp74V"
      },
      "execution_count": null,
      "outputs": []
    },
    {
      "cell_type": "code",
      "source": [
        "def build_model():\n",
        "    inputs = keras.Input(shape=(IMAGE_SIZE[0], IMAGE_SIZE[1], 3))\n",
        "    x = layers.Rescaling(1.0 / 255)(inputs)\n",
        "    x = layers.Conv2D(16, 3, activation=\"relu\", padding=\"same\")(x)\n",
        "    x = layers.Conv2D(16, 3, activation=\"relu\", padding=\"same\")(x)\n",
        "    x = layers.MaxPool2D()(x)\n",
        "\n",
        "    x = conv_block(32, x)\n",
        "    x = conv_block(64, x)\n",
        "\n",
        "    x = conv_block(128, x)\n",
        "    x = layers.Dropout(0.2)(x)\n",
        "\n",
        "    x = conv_block(256, x)\n",
        "    x = layers.Dropout(0.2)(x)\n",
        "\n",
        "    x = layers.Flatten()(x)\n",
        "    x = dense_block(512, 0.7, x)\n",
        "    x = dense_block(128, 0.5, x)\n",
        "    x = dense_block(64, 0.3, x)\n",
        "\n",
        "    outputs = layers.Dense(1, activation=\"sigmoid\")(x)\n",
        "\n",
        "    model = keras.Model(inputs=inputs, outputs=outputs)\n",
        "    return model"
      ],
      "metadata": {
        "id": "LoptbNl5rjRE"
      },
      "execution_count": null,
      "outputs": []
    },
    {
      "cell_type": "code",
      "source": [
        "initial_bias = np.log([num_pneumonia_samples / num_normal_samples])\n",
        "print(\"Initial bias: {:.5f}\".format(initial_bias[0]))\n",
        "\n",
        "TRAIN_IMG_COUNT = num_normal_samples + num_pneumonia_samples\n",
        "weight_for_0 = (1 / num_normal_samples) * (TRAIN_IMG_COUNT) / 2.0\n",
        "weight_for_1 = (1 / num_pneumonia_samples) * (TRAIN_IMG_COUNT) / 2.0\n",
        "\n",
        "class_weight = {0: weight_for_0, 1: weight_for_1}\n",
        "\n",
        "print(\"Weight for class 0: {:.2f}\".format(weight_for_0))\n",
        "print(\"Weight for class 1: {:.2f}\".format(weight_for_1))\n"
      ],
      "metadata": {
        "id": "dD95cg3WrkGv"
      },
      "execution_count": null,
      "outputs": []
    },
    {
      "cell_type": "code",
      "source": [
        "checkpoint_cb = tf.keras.callbacks.ModelCheckpoint(\"xray_model.h5\", save_best_only=True)\n",
        "\n",
        "early_stopping_cb = tf.keras.callbacks.EarlyStopping(\n",
        "    patience=10, restore_best_weights=True)\n",
        "initial_learning_rate = 0.015\n",
        "lr_schedule = tf.keras.optimizers.schedules.ExponentialDecay(\n",
        "    initial_learning_rate, decay_steps=100000, decay_rate=0.96, staircase=True\n",
        ")\n",
        "\n",
        "\n",
        "with strategy.scope():\n",
        "    model = build_model()\n",
        "\n",
        "    METRICS = [\n",
        "        tf.keras.metrics.BinaryAccuracy(),\n",
        "        tf.keras.metrics.Precision(name=\"precision\"),\n",
        "        tf.keras.metrics.Recall(name=\"recall\"),\n",
        "    ]\n",
        "    model.compile(\n",
        "        optimizer=tf.keras.optimizers.Adam(learning_rate=lr_schedule),\n",
        "        loss=\"binary_crossentropy\",\n",
        "        metrics=METRICS,\n",
        "    )\n",
        "\n",
        "history = model.fit(\n",
        "    train_generator,\n",
        "    epochs=100,\n",
        "    validation_data=val_generator,\n",
        "    class_weight=class_weight,\n",
        "    callbacks=[checkpoint_cb, early_stopping_cb],\n",
        ")"
      ],
      "metadata": {
        "id": "aZTZDnfotuQF"
      },
      "execution_count": null,
      "outputs": []
    },
    {
      "cell_type": "code",
      "source": [
        "fig, ax = plt.subplots(1, 4, figsize=(20, 3))\n",
        "ax = ax.ravel()\n",
        "\n",
        "for i, met in enumerate([\"precision\", \"recall\", \"binary_accuracy\", \"loss\"]):\n",
        "    ax[i].plot(history.history[met])\n",
        "    ax[i].plot(history.history[\"val_\" + met])\n",
        "    ax[i].set_title(\"Model {}\".format(met))\n",
        "    ax[i].set_xlabel(\"epochs\")\n",
        "    ax[i].set_ylabel(met)\n",
        "    ax[i].legend([\"train\", \"val\"])"
      ],
      "metadata": {
        "id": "vHYpEzFU4inC"
      },
      "execution_count": null,
      "outputs": []
    },
    {
      "cell_type": "code",
      "source": [
        "import tensorflow as tf\n",
        "from tensorflow.keras.preprocessing import image\n",
        "import numpy as np\n",
        "\n",
        "# Load the trained model\n",
        "model = tf.keras.models.load_model(\"/content/xray_model.h5\")\n",
        "\n",
        "# Load and preprocess the input image\n",
        "img_path = \"/content/chest_xray/test/NORMAL/IM-0005-0001.jpeg\"\n",
        "img = image.load_img(img_path, target_size=(180, 180))\n",
        "img_array = image.img_to_array(img)\n",
        "img_array = np.expand_dims(img_array, axis=0)  # Add batch dimension\n",
        "img_array /= 255.0  # Normalize the pixel values to be between 0 and 1\n",
        "\n",
        "# Make predictions\n",
        "predictions = model.predict(img_array)\n",
        "\n",
        "# Interpret the predictions\n",
        "class_index = int(predictions[0] > 0.5)  # Use a threshold (e.g., 0.5) for binary classification\n",
        "confidence = predictions[0][0] if class_index == 1 else 1 - predictions[0][0]  # Confidence score for the predicted class\n",
        "\n",
        "# Print the results\n",
        "print(\"Predicted class index:\", class_index)\n",
        "print(\"Predicted class confidence:\", confidence)\n",
        "\n",
        "# If you have class labels, you can map the index to the class label\n",
        "class_labels = {0: 'NORMAL', 1: 'PNEUMONIA'}  # Replace with your own class labels\n",
        "predicted_class = class_labels[class_index]\n",
        "print(\"Predicted class:\", predicted_class)\n"
      ],
      "metadata": {
        "id": "5ZuWUUenkBmh"
      },
      "execution_count": null,
      "outputs": []
    },
    {
      "cell_type": "code",
      "source": [
        "def find_last_conv_layer(model):\n",
        "    last_conv_layer = None\n",
        "\n",
        "    for layer in reversed(model.layers):\n",
        "        if isinstance(layer, (tf.keras.layers.Conv2D, tf.keras.layers.Conv3D)):\n",
        "            last_conv_layer = layer\n",
        "            break\n",
        "\n",
        "    return last_conv_layer\n",
        "\n",
        "\n",
        "# Find the last convolutional layer\n",
        "last_conv_layer = find_last_conv_layer(model)\n",
        "\n",
        "# Print information about the last convolutional layer\n",
        "if last_conv_layer is not None:\n",
        "    print(\"Last Convolutional Layer:\")\n",
        "    print(\"Layer Name:\", last_conv_layer.name)\n",
        "    print(\"Filters:\", last_conv_layer.filters)\n",
        "    print(\"Kernel Size:\", last_conv_layer.kernel_size)\n",
        "    print(\"Activation:\", last_conv_layer.activation)\n",
        "else:\n",
        "    print(\"No Convolutional Layer found in the model.\")"
      ],
      "metadata": {
        "id": "-rmQPSApmNYh"
      },
      "execution_count": null,
      "outputs": []
    },
    {
      "cell_type": "code",
      "source": [
        "import tensorflow as tf\n",
        "import numpy as np\n",
        "import cv2\n",
        "import matplotlib.pyplot as plt\n",
        "\n",
        "def preprocess_image(img_path):\n",
        "    img = tf.keras.preprocessing.image.load_img(img_path, target_size=(180, 180))\n",
        "    img_array = tf.keras.preprocessing.image.img_to_array(img)\n",
        "    img_array = np.expand_dims(img_array, axis=0)\n",
        "    img_array /= 255.0\n",
        "    return img_array\n",
        "\n",
        "def get_gradcam_heatmap(model, img_array, last_conv_layer_name):\n",
        "    grad_model = tf.keras.models.Model(\n",
        "        [model.inputs], [model.get_layer(last_conv_layer_name).output, model.output]\n",
        "    )\n",
        "\n",
        "    with tf.GradientTape() as tape:\n",
        "        last_conv_layer_output, preds = grad_model(img_array)\n",
        "        class_channel = preds[:, np.argmax(preds[0])]\n",
        "\n",
        "    grads = tape.gradient(class_channel, last_conv_layer_output)\n",
        "    pooled_grads = tf.reduce_mean(grads, axis=(0, 1, 2))\n",
        "    last_conv_layer_output = last_conv_layer_output[0]\n",
        "    heatmap = last_conv_layer_output @ pooled_grads[..., tf.newaxis]\n",
        "    heatmap = tf.squeeze(heatmap)\n",
        "    heatmap = tf.maximum(heatmap, 0) / tf.math.reduce_max(heatmap)\n",
        "\n",
        "    return heatmap.numpy()\n",
        "\n",
        "def overlay_heatmap(original_img, heatmap):\n",
        "    heatmap = cv2.resize(heatmap, (original_img.shape[1], original_img.shape[0]))\n",
        "    heatmap = np.uint8(255 * heatmap)\n",
        "    heatmap = cv2.applyColorMap(heatmap, cv2.COLORMAP_JET)\n",
        "    overlayed_img = cv2.addWeighted(original_img, 0.5, heatmap, 0.5, 0)\n",
        "    return overlayed_img\n",
        "\n",
        "# Load your trained model\n",
        "model = tf.keras.models.load_model(\"/content/xray_model.h5\")\n",
        "\n",
        "# Load and preprocess the input image\n",
        "img_path = \"/content/chest_xray/test/NORMAL/IM-0005-0001.jpeg\"\n",
        "img_array = preprocess_image(img_path)\n",
        "\n",
        "# Choose the last convolutional layer name in your model\n",
        "last_conv_layer_name = \"conv2d_5\"\n",
        "\n",
        "# Generate Grad-CAM heatmap\n",
        "heatmap = get_gradcam_heatmap(model, img_array, last_conv_layer_name)\n",
        "\n",
        "# Load the original image\n",
        "original_img = cv2.imread(img_path)\n",
        "original_img = cv2.cvtColor(original_img, cv2.COLOR_BGR2RGB)\n",
        "\n",
        "# Overlay the heatmap on the original image\n",
        "overlayed_img = overlay_heatmap(original_img, heatmap)\n",
        "\n",
        "# Display the images\n",
        "plt.figure(figsize=(12, 6))\n",
        "plt.subplot(1, 2, 1)\n",
        "plt.imshow(original_img)\n",
        "plt.title(\"Original Image\")\n",
        "plt.subplot(1, 2, 2)\n",
        "plt.imshow(overlayed_img)\n",
        "plt.title(\"Heatmap Overlay\")\n",
        "plt.show()\n"
      ],
      "metadata": {
        "id": "kIC5gnf7kIxs"
      },
      "execution_count": null,
      "outputs": []
    },
    {
      "cell_type": "code",
      "source": [],
      "metadata": {
        "id": "pol5uVMSxC_b"
      },
      "execution_count": null,
      "outputs": []
    }
  ]
}