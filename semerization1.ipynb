{
  "nbformat": 4,
  "nbformat_minor": 0,
  "metadata": {
    "colab": {
      "provenance": []
    },
    "kernelspec": {
      "name": "python3",
      "display_name": "Python 3"
    },
    "language_info": {
      "name": "python"
    }
  },
  "cells": [
    {
      "cell_type": "code",
      "execution_count": 1,
      "metadata": {
        "colab": {
          "base_uri": "https://localhost:8080/"
        },
        "id": "BNbGBVFk7dvH",
        "outputId": "fbf673fe-eea8-4aab-f2b4-11373e82641d"
      },
      "outputs": [
        {
          "output_type": "stream",
          "name": "stderr",
          "text": [
            "[nltk_data] Downloading package stopwords to /root/nltk_data...\n",
            "[nltk_data]   Unzipping corpora/stopwords.zip.\n",
            "[nltk_data] Downloading package punkt to /root/nltk_data...\n",
            "[nltk_data]   Unzipping tokenizers/punkt.zip.\n"
          ]
        },
        {
          "output_type": "execute_result",
          "data": {
            "text/plain": [
              "True"
            ]
          },
          "metadata": {},
          "execution_count": 1
        }
      ],
      "source": [
        "# importing libraries\n",
        "import nltk\n",
        "from nltk.corpus import stopwords\n",
        "from nltk.tokenize import word_tokenize, sent_tokenize\n",
        "nltk.download('stopwords')\n",
        "nltk.download('punkt')"
      ]
    },
    {
      "cell_type": "code",
      "source": [
        "text = \"\"\"\n",
        "The son of a salesman who later operated an electrochemical factory,\n",
        "Einstein was born in the German Empire, but moved to Switzerland in 1895 and renounced his German citizenship in 1896.\n",
        " Specializing in physics and mathematics, he received his academic teaching diploma from the Swiss Federal Polytechnic\n",
        "  School (German: eidgenössische polytechnische Schule) in Zürich in 1900. The following year, he acquired Swiss citizenship, which he kept for his entire life. After initially struggling to find work, from 1902 to 1909 he was employed as a patent examiner at the Swiss Patent Office in Bern.\n",
        "\n",
        "Near the beginning of his career,\n",
        " Einstein thought that Newtonian mechanics was no longer enough to reconcile the laws of\n",
        "  classical mechanics with the laws of the electromagnetic field. This led him to develop his special theory of\n",
        "  relativity during his time at the Swiss Patent Office. There is evidence—from Einstein's own writings—that he collab\n",
        "  orated with his first wife, Mileva Marić on this work. The decision to publish only under his name seems to have\n",
        "  been mutual, but the exact reason is unknown.[11] In 1905, called his annus mirabilis (miracle year), he published\n",
        "   four groundbreaking papers, which attracted the attention of the academic world; the first outlined the theory of\n",
        "    the photoelectric effect, the second paper explained Brownian motion, the third paper introduced special\n",
        "    relativity, and the fourth mass-energy equivalence. That year, at the age of 26, he was awarded a PhD by\n",
        "     the University of Zurich.\n",
        "\n",
        " \"\"\"\n"
      ],
      "metadata": {
        "id": "HulfjYrf7gt8"
      },
      "execution_count": 2,
      "outputs": []
    },
    {
      "cell_type": "code",
      "source": [
        "stopWords = set(stopwords.words(\"english\"))\n",
        "words = word_tokenize(text)\n",
        "words"
      ],
      "metadata": {
        "id": "c184mGGJ7kGF"
      },
      "execution_count": null,
      "outputs": []
    },
    {
      "cell_type": "code",
      "source": [
        "freqTable = dict()\n",
        "for word in words:\n",
        "\tword = word.lower()\n",
        "\tif word in stopWords:\n",
        "\t\tcontinue\n",
        "\tif word in freqTable:\n",
        "\t\tfreqTable[word] += 1\n",
        "\telse:\n",
        "\t\tfreqTable[word] = 1\n"
      ],
      "metadata": {
        "id": "ioCWYYG67v9e"
      },
      "execution_count": 4,
      "outputs": []
    },
    {
      "cell_type": "code",
      "source": [
        "freqTable"
      ],
      "metadata": {
        "id": "IohFHkg57xEk"
      },
      "execution_count": null,
      "outputs": []
    },
    {
      "cell_type": "code",
      "source": [
        "sentences = sent_tokenize(text)\n",
        "sentenceValue = dict()\n",
        "\n",
        "for sentence in sentences:\n",
        "\tfor word, freq in freqTable.items():\n",
        "\t\tif word in sentence.lower():\n",
        "\t\t\tif sentence in sentenceValue:\n",
        "\t\t\t\tsentenceValue[sentence] += freq\n",
        "\t\t\telse:\n",
        "\t\t\t\tsentenceValue[sentence] = freq\n"
      ],
      "metadata": {
        "id": "VfnYTidJ8Ddg"
      },
      "execution_count": 6,
      "outputs": []
    },
    {
      "cell_type": "code",
      "source": [
        "sentenceValue"
      ],
      "metadata": {
        "colab": {
          "base_uri": "https://localhost:8080/"
        },
        "id": "XgzG8bzj8F1I",
        "outputId": "06f4bb6d-b3f1-46a3-cbe7-3a633f5ce7d3"
      },
      "execution_count": 7,
      "outputs": [
        {
          "output_type": "execute_result",
          "data": {
            "text/plain": [
              "{'\\nThe son of a salesman who later operated an electrochemical factory, Einstein was born in the German Empire, but moved to Switzerland in 1895 and renounced his German citizenship in 1896.': 48,\n",
              " 'Specializing in physics and mathematics, he received his academic teaching diploma from the Swiss Federal Polytechnic School (German: eidgenössische polytechnische Schule) in Zürich in 1900.': 57,\n",
              " 'The following year, he acquired Swiss citizenship, which he kept for his entire life.': 41,\n",
              " 'After initially struggling to find work, from 1902 to 1909 he was employed as a patent examiner at the Swiss Patent Office in Bern.': 46,\n",
              " 'Near the beginning of his career, Einstein thought that Newtonian mechanics was no longer enough to reconcile the laws of classical mechanics with the laws of the electromagnetic field.': 45,\n",
              " 'This led him to develop his special theory of relativity during his time at the Swiss Patent Office.': 28,\n",
              " \"There is evidence—from Einstein's own writings—that he collaborated with his first wife, Mileva Marić on this work.\": 41,\n",
              " 'The decision to publish only under his name seems to have been mutual, but the exact reason is unknown.': 36,\n",
              " '[11] In 1905, called his annus mirabilis (miracle year), he published four groundbreaking papers, which attracted the attention of the academic world; the first outlined the theory of the photoelectric effect, the second paper explained Brownian motion, the third paper introduced special relativity, and the fourth mass-energy equivalence.': 76,\n",
              " 'That year, at the age of 26, he was awarded a PhD by the University of Zurich.': 36}"
            ]
          },
          "metadata": {},
          "execution_count": 7
        }
      ]
    },
    {
      "cell_type": "code",
      "source": [
        "sumValues = 0\n",
        "for sentence in sentenceValue:\n",
        "\tsumValues += sentenceValue[sentence]"
      ],
      "metadata": {
        "id": "QtbYU5-u8Tyo"
      },
      "execution_count": 8,
      "outputs": []
    },
    {
      "cell_type": "code",
      "source": [
        "sumValues"
      ],
      "metadata": {
        "colab": {
          "base_uri": "https://localhost:8080/"
        },
        "id": "UFGJH1zS8WGN",
        "outputId": "9db9ce80-7c33-451d-d94b-fc3a6e06ccb1"
      },
      "execution_count": 9,
      "outputs": [
        {
          "output_type": "execute_result",
          "data": {
            "text/plain": [
              "454"
            ]
          },
          "metadata": {},
          "execution_count": 9
        }
      ]
    },
    {
      "cell_type": "code",
      "source": [
        "average = int(sumValues / (len(sentenceValue)+1))\n"
      ],
      "metadata": {
        "id": "WpbvDaJP8akq"
      },
      "execution_count": 10,
      "outputs": []
    },
    {
      "cell_type": "code",
      "source": [
        "summary = ''\n",
        "for sentence in sentences:\n",
        "\tif (sentence in sentenceValue) and (sentenceValue[sentence] > (1.5 * average)):\n",
        "\t\tsummary += \" \" + sentence"
      ],
      "metadata": {
        "id": "Tm3u_dud8fWi"
      },
      "execution_count": 13,
      "outputs": []
    },
    {
      "cell_type": "code",
      "source": [
        "print(summary)\n"
      ],
      "metadata": {
        "colab": {
          "base_uri": "https://localhost:8080/"
        },
        "id": "p1UKClz28k2C",
        "outputId": "e6ba4ec2-bf73-4543-ac5b-ade739146061"
      },
      "execution_count": 14,
      "outputs": [
        {
          "output_type": "stream",
          "name": "stdout",
          "text": [
            " [11] In 1905, called his annus mirabilis (miracle year), he published four groundbreaking papers, which attracted the attention of the academic world; the first outlined the theory of the photoelectric effect, the second paper explained Brownian motion, the third paper introduced special relativity, and the fourth mass-energy equivalence.\n"
          ]
        }
      ]
    }
  ]
}