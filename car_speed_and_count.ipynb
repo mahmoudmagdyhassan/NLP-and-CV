{
  "nbformat": 4,
  "nbformat_minor": 0,
  "metadata": {
    "colab": {
      "provenance": [],
      "mount_file_id": "https://github.com/mahmoudmagdyhassan/NLP-and-CV/blob/main/car_speed_and_count.ipynb",
      "authorship_tag": "ABX9TyNNPsybSIdnLEAL4sdsuSxn",
      "include_colab_link": true
    },
    "kernelspec": {
      "name": "python3",
      "display_name": "Python 3"
    },
    "language_info": {
      "name": "python"
    }
  },
  "cells": [
    {
      "cell_type": "markdown",
      "metadata": {
        "id": "view-in-github",
        "colab_type": "text"
      },
      "source": [
        "<a href=\"https://colab.research.google.com/github/mahmoudmagdyhassan/NLP-and-CV/blob/main/car_speed_and_count.ipynb\" target=\"_parent\"><img src=\"https://colab.research.google.com/assets/colab-badge.svg\" alt=\"Open In Colab\"/></a>"
      ]
    },
    {
      "cell_type": "code",
      "execution_count": null,
      "metadata": {
        "id": "-Ellj2phhcJ4"
      },
      "outputs": [],
      "source": [
        "!git clone https://github.com/AhmedIbrahimai/Counting-people-in-a-marathon-using-YOLOv8.git\n",
        "!pip install ultralytics\n",
        "!pip install cvzone\n"
      ]
    },
    {
      "cell_type": "code",
      "source": [
        "!pip install gdown"
      ],
      "metadata": {
        "collapsed": true,
        "id": "PG5t9Kkcfurf",
        "outputId": "a5d4e865-c97f-4a36-a86d-43c2343d467d",
        "colab": {
          "base_uri": "https://localhost:8080/"
        }
      },
      "execution_count": 1,
      "outputs": [
        {
          "output_type": "stream",
          "name": "stdout",
          "text": [
            "Requirement already satisfied: gdown in /usr/local/lib/python3.11/dist-packages (5.2.0)\n",
            "Requirement already satisfied: beautifulsoup4 in /usr/local/lib/python3.11/dist-packages (from gdown) (4.12.3)\n",
            "Requirement already satisfied: filelock in /usr/local/lib/python3.11/dist-packages (from gdown) (3.16.1)\n",
            "Requirement already satisfied: requests[socks] in /usr/local/lib/python3.11/dist-packages (from gdown) (2.32.3)\n",
            "Requirement already satisfied: tqdm in /usr/local/lib/python3.11/dist-packages (from gdown) (4.67.1)\n",
            "Requirement already satisfied: soupsieve>1.2 in /usr/local/lib/python3.11/dist-packages (from beautifulsoup4->gdown) (2.6)\n",
            "Requirement already satisfied: charset-normalizer<4,>=2 in /usr/local/lib/python3.11/dist-packages (from requests[socks]->gdown) (3.4.1)\n",
            "Requirement already satisfied: idna<4,>=2.5 in /usr/local/lib/python3.11/dist-packages (from requests[socks]->gdown) (3.10)\n",
            "Requirement already satisfied: urllib3<3,>=1.21.1 in /usr/local/lib/python3.11/dist-packages (from requests[socks]->gdown) (2.3.0)\n",
            "Requirement already satisfied: certifi>=2017.4.17 in /usr/local/lib/python3.11/dist-packages (from requests[socks]->gdown) (2024.12.14)\n",
            "Requirement already satisfied: PySocks!=1.5.7,>=1.5.6 in /usr/local/lib/python3.11/dist-packages (from requests[socks]->gdown) (1.7.1)\n"
          ]
        }
      ]
    },
    {
      "cell_type": "code",
      "source": [
        "import cv2\n",
        "from google.colab.patches import cv2_imshow\n",
        "\n",
        "# نقاط الخطين\n",
        "points_line1 = [(3620, 660), (500, 630)]  # النقاط للخط الأول\n",
        "points_line2 = [(235, 1840), (3790, 1770)]  # النقاط للخط الثاني\n",
        "\n",
        "# فتح الفيديو\n",
        "video_path = \"/content/drive/MyDrive/PROF/Video-3.mp4\"  # استبدل بمسار الفيديو الخاص بك\n",
        "cap = cv2.VideoCapture(video_path)\n",
        "\n",
        "if not cap.isOpened():\n",
        "    print(\"خطأ: لا يمكن فتح الفيديو.\")\n",
        "    exit()\n",
        "\n",
        "# قراءة أول فريم\n",
        "ret, frame = cap.read()\n",
        "if not ret:\n",
        "    print(\"خطأ: لا يمكن قراءة الفريم.\")\n",
        "    exit()\n",
        "\n",
        "# رسم الخطين على الفريم\n",
        "#color = (0, 255, 0)  # لون الخط (أخضر)\n",
        "thickness = 3  # سمك الخط\n",
        "\n",
        "# رسم الخط الأول\n",
        "cv2.line(frame, points_line1[0], points_line1[1], (0, 255, 0), thickness)\n",
        "# رسم الخط الثاني\n",
        "cv2.line(frame, points_line2[0], points_line2[1], (255, 255, 0), thickness)\n",
        "\n",
        "# عرض الفريم مع الخطين\n",
        "cv2_imshow(frame)\n",
        "\n",
        "\n"
      ],
      "metadata": {
        "id": "NVPwyLqGgo1j"
      },
      "execution_count": null,
      "outputs": []
    },
    {
      "cell_type": "code",
      "source": [
        "!gdown https://drive.google.com/file/d/1A5Sf_Qqsxi1KbqcELReR9VF4pbRwhFyq/view"
      ],
      "metadata": {
        "collapsed": true,
        "id": "NjHG1NHVf2lT",
        "outputId": "302fe537-1299-47ca-c7cf-dae60c6464fe",
        "colab": {
          "base_uri": "https://localhost:8080/"
        }
      },
      "execution_count": 2,
      "outputs": [
        {
          "output_type": "stream",
          "name": "stdout",
          "text": [
            "/usr/local/lib/python3.11/dist-packages/gdown/parse_url.py:48: UserWarning: You specified a Google Drive link that is not the correct link to download a file. You might want to try `--fuzzy` option or the following url: https://drive.google.com/uc?id=1A5Sf_Qqsxi1KbqcELReR9VF4pbRwhFyq\n",
            "  warnings.warn(\n",
            "Downloading...\n",
            "From: https://drive.google.com/file/d/1A5Sf_Qqsxi1KbqcELReR9VF4pbRwhFyq/view\n",
            "To: /content/view\n",
            "93.3kB [00:00, 14.0MB/s]\n"
          ]
        }
      ]
    },
    {
      "cell_type": "code",
      "source": [
        "import cv2\n",
        "import pandas as pd\n",
        "import numpy as np\n",
        "from ultralytics import YOLO\n",
        "from tracker import*\n",
        "import cvzone\n",
        "model=YOLO('yolov8s.pt')"
      ],
      "metadata": {
        "id": "YBb6vfMrhh0t"
      },
      "execution_count": null,
      "outputs": []
    },
    {
      "cell_type": "code",
      "source": [
        "from google.colab.patches import cv2_imshow\n",
        "import cv2\n",
        "import cvzone\n",
        "import time"
      ],
      "metadata": {
        "id": "tPcvXEUYhwDj"
      },
      "execution_count": null,
      "outputs": []
    },
    {
      "cell_type": "code",
      "source": [
        "# Define the video capture\n",
        "cap = cv2.VideoCapture('/content/drive/MyDrive/CNN/veh2.mp4')\n",
        "\n",
        "# Read the class list from the file\n",
        "my_file = open(\"/content/coco.txt\", \"r\")\n",
        "data = my_file.read()\n",
        "class_list = data.split(\"\\n\")\n",
        "\n",
        "# Tracker instance\n",
        "tracker = Tracker()\n",
        "\n",
        "# Line coordinates\n",
        "cy1 = 322\n",
        "cy2 = 368\n",
        "offset = 6\n",
        "\n",
        "# Dictionaries for tracking vehicles going up and down\n",
        "vh_down = {}\n",
        "counter = []\n",
        "vh_up = {}\n",
        "counter1 = []\n",
        "\n",
        "# Define the codec and create a VideoWriter object\n",
        "fourcc = cv2.VideoWriter_fourcc(*'MP4V')  # You can change the codec as needed\n",
        "output_video = cv2.VideoWriter('/content/drive/MyDrive/CNN/output_video2.avi', fourcc, 20.0, (1020, 500))\n",
        "\n",
        "# Main loop\n",
        "while True:\n",
        "    ret, frame = cap.read()\n",
        "    if not ret:\n",
        "        break\n",
        "\n",
        "    # Process every third frame\n",
        "    count += 1\n",
        "    if count % 3 != 0:\n",
        "        continue\n",
        "\n",
        "    # Resize the frame\n",
        "    frame = cv2.resize(frame, (1020, 500))\n",
        "\n",
        "    # Model prediction (assuming you have a model named 'model' defined elsewhere in your code)\n",
        "    results = model.predict(frame)\n",
        "    boxes_model = results[0].boxes.xyxy.cpu()\n",
        "    class_labels_model = results[0].boxes.cls.cpu().tolist()\n",
        "\n",
        "    # Bounding box list\n",
        "    bbox_list = []\n",
        "\n",
        "    # Process results and draw bounding boxes for specific classes\n",
        "    for box, label in zip(boxes_model, class_labels_model):\n",
        "        x, y, x_max, y_max = map(int, box[:4])\n",
        "\n",
        "        # Add labels for specific classes\n",
        "        if label in [1, 2, 3, 5, 7]:  # Classes for bicycle, car, motorcycle, bus, truck\n",
        "            object_label = class_list[int(label)]\n",
        "            bbox_list.append([x, y, x_max, y_max])\n",
        "\n",
        "            # Draw bounding box with label\n",
        "            cv2.rectangle(frame, (x, y), (x_max, y_max), (0, 0, 255), 2)\n",
        "            cv2.putText(frame, object_label, (x, y - 10), cv2.FONT_HERSHEY_COMPLEX, 0.6, (255, 255, 255), 1)\n",
        "\n",
        "    # Update tracker and process vehicle movement\n",
        "    bbox_id = tracker.update(bbox_list)\n",
        "    for bbox in bbox_id:\n",
        "        x3, y3, x4, y4, id = bbox\n",
        "        cx = int(x3 + x4) // 2\n",
        "        cy = int(y3 + y4) // 2\n",
        "\n",
        "        # Process vehicles going down\n",
        "        if cy1 < (cy + offset) and cy1 > (cy - offset):\n",
        "            vh_down[id] = time.time()\n",
        "        if id in vh_down:\n",
        "            if cy2 < (cy + offset) and cy2 > (cy - offset):\n",
        "                elapsed_time = time.time() - vh_down[id]\n",
        "                if counter.count(id) == 0:\n",
        "                    counter.append(id)\n",
        "                    distance = 10  # meters\n",
        "                    a_speed_ms = distance / elapsed_time\n",
        "                    a_speed_kh = a_speed_ms * 3.6\n",
        "                    cv2.circle(frame, (cx, cy), 4, (0, 0, 255), -1)\n",
        "                    cv2.putText(frame, str(id), (x3, y3), cv2.FONT_HERSHEY_COMPLEX, 0.6, (255, 255, 255), 1)\n",
        "                    cv2.putText(frame, str(int(a_speed_kh)) + 'Km/h', (x4, y4), cv2.FONT_HERSHEY_COMPLEX, 0.8, (0, 255, 255), 2)\n",
        "\n",
        "        # Process vehicles going up\n",
        "        if cy2 < (cy + offset) and cy2 > (cy - offset):\n",
        "            vh_up[id] = time.time()\n",
        "        if id in vh_up:\n",
        "            if cy1 < (cy + offset) and cy1 > (cy - offset):\n",
        "                elapsed1_time = time.time() - vh_up[id]\n",
        "                if counter1.count(id) == 0:\n",
        "                    counter1.append(id)\n",
        "                    distance1 = 10  # meters\n",
        "                    a_speed_ms1 = distance1 / elapsed1_time\n",
        "                    a_speed_kh1 = a_speed_ms1 * 3.6\n",
        "                    cv2.circle(frame, (cx, cy), 4, (0, 0, 255), -1)\n",
        "                    cv2.putText(frame, str(id), (x3, y3), cv2.FONT_HERSHEY_COMPLEX, 0.6, (255, 255, 255), 1)\n",
        "                    cv2.putText(frame, str(int(a_speed_kh1)) + 'Km/h', (x4, y4), cv2.FONT_HERSHEY_COMPLEX, 0.8, (0, 255, 255), 2)\n",
        "\n",
        "    # Draw lines and display information\n",
        "    cv2.line(frame, (274, cy1), (814, cy1), (255, 255, 255), 1)\n",
        "    cv2.putText(frame, 'L1', (277, 320), cv2.FONT_HERSHEY_COMPLEX, 0.8, (0, 255, 255), 2)\n",
        "    cv2.line(frame, (177, cy2), (927, cy2), (255, 255, 255), 1)\n",
        "    cv2.putText(frame, 'L2', (182, 367), cv2.FONT_HERSHEY_COMPLEX, 0.8, (0, 255, 255), 2)\n",
        "\n",
        "    # Display vehicle count\n",
        "    d = len(counter)\n",
        "    u = len(counter1)\n",
        "    cv2.putText(frame, 'goingdown: ' + str(d), (60, 90), cv2.FONT_HERSHEY_COMPLEX, 0.8, (0, 255, 255), 2)\n",
        "    cv2.putText(frame, 'goingup: ' + str(u), (60, 130), cv2.FONT_HERSHEY_COMPLEX, 0.8, (0, 255, 255), 2)\n",
        "\n",
        "    # Show the frame\n",
        "    cv2_imshow(frame)\n",
        "\n",
        "    # Save the frame to the output video\n",
        "    output_video.write(frame)\n",
        "\n",
        "    # Break the loop if 'Esc' key is pressed\n",
        "    if cv2.waitKey(1) & 0xFF == 27:\n",
        "        break\n",
        "\n",
        "# Release the VideoWriter and cleanup\n",
        "output_video.release()\n",
        "cap.release()\n",
        "cv2.destroyAllWindows()\n"
      ],
      "metadata": {
        "id": "XZydJqvThn7R"
      },
      "execution_count": null,
      "outputs": []
    }
  ]
}